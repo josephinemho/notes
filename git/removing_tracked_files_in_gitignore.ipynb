{
 "cells": [
  {
   "cell_type": "markdown",
   "metadata": {},
   "source": [
    "# Untrack files already added to git repository based on .gitignore\n",
    "http://www.codeblocq.com/2016/01/Untrack-files-already-added-to-git-repository-based-on-gitignore/"
   ]
  },
  {
   "cell_type": "markdown",
   "metadata": {},
   "source": [
    "### Step 1: Commit all your changes\n",
    "Before proceeding, make sure all your changes are committed, including your .gitignore file.\n",
    "\n",
    "### Step 2: Remove everything from the repository\n",
    "`git rm -r --cached .`\n",
    "\n",
    "* `rm` is the remove command\n",
    "* `-r` will allow recursive removal\n",
    "* `--cached` will only remove files from the index. Your files will still be there.\n",
    "* The `.` indicates that all files will be untracked. You can untrack a specific file with git rm --cached foo.txt\n",
    "* The `rm` command can be unforgiving. If you wish to try what it does beforehand, add the -n or --dry-run flag to test things out.\n",
    "\n",
    "### Step 3: Re add everything\n",
    "`git add .`\n",
    "\n",
    "### Step 4: Commit\n",
    "`git commit -m \".gitignore fix\"`"
   ]
  }
 ],
 "metadata": {
  "kernelspec": {
   "display_name": "Python 3",
   "language": "python",
   "name": "python3"
  },
  "language_info": {
   "codemirror_mode": {
    "name": "ipython",
    "version": 3
   },
   "file_extension": ".py",
   "mimetype": "text/x-python",
   "name": "python",
   "nbconvert_exporter": "python",
   "pygments_lexer": "ipython3",
   "version": "3.6.3"
  }
 },
 "nbformat": 4,
 "nbformat_minor": 2
}
